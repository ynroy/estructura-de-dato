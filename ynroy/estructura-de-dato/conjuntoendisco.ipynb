{
  "nbformat": 4,
  "nbformat_minor": 0,
  "metadata": {
    "colab": {
      "provenance": [],
      "authorship_tag": "ABX9TyPgrfZ3SxOu+4wCqfmX5zEd",
      "include_colab_link": true
    },
    "kernelspec": {
      "name": "python3",
      "display_name": "Python 3"
    },
    "language_info": {
      "name": "python"
    }
  },
  "cells": [
    {
      "cell_type": "markdown",
      "metadata": {
        "id": "view-in-github",
        "colab_type": "text"
      },
      "source": [
        "<a href=\"https://colab.research.google.com/github/ynroy/estructura-de-dato/blob/main/ynroy/estructura-de-dato/conjuntoendisco.ipynb\" target=\"_parent\"><img src=\"https://colab.research.google.com/assets/colab-badge.svg\" alt=\"Open In Colab\"/></a>"
      ]
    },
    {
      "cell_type": "code",
      "execution_count": null,
      "metadata": {
        "colab": {
          "base_uri": "https://localhost:8080/"
        },
        "id": "NOlWEM6iTTxF",
        "outputId": "0c9ce5fe-2753-4a37-a8d5-53aa3e9a1a89"
      },
      "outputs": [
        {
          "output_type": "stream",
          "name": "stdout",
          "text": [
            "Conjunto: {'Manzana', 'Uva', 'Naranja', 'Pera'}\n",
            "¿Contiene 'Pera'? True\n",
            "¿contine 'Mandarina'? False\n",
            "Conjunto actualizado: {'Uva', 'Naranja'}\n"
          ]
        }
      ],
      "source": [
        "import pickle\n",
        "import os\n",
        "\n",
        "class ConjuntoEnDisco:\n",
        "    def __init__(self, archivo):\n",
        "        self.archivo = archivo\n",
        "        if not os.path.exists(archivo):\n",
        "            self._guardar_en_disco(set())  # Si no existe el archivo, lo creamos con un conjunto vacío\n",
        "        self.conjunto = self._cargar_desde_disco()\n",
        "\n",
        "    def _guardar_en_disco(self, conjunto):\n",
        "        with open(self.archivo, 'wb') as f:  # 'wb' para escribir en binario\n",
        "            pickle.dump(conjunto, f)\n",
        "\n",
        "    def _cargar_desde_disco(self):\n",
        "        with open(self.archivo, 'rb') as f:  # 'rb' para leer en binario\n",
        "            return pickle.load(f)\n",
        "\n",
        "    # Método getter: obtener el conjunto\n",
        "    def obtener_conjunto(self):\n",
        "        return self.conjunto\n",
        "\n",
        "    # Método setter: reemplazar el conjunto con uno nuevo\n",
        "    def establecer_conjunto(self, nuevo_conjunto):\n",
        "        if isinstance(nuevo_conjunto, set):\n",
        "            self.conjunto = nuevo_conjunto\n",
        "            self._guardar_en_disco(self.conjunto)\n",
        "        else:\n",
        "            raise ValueError(\"Debe proporcionar un conjunto (set)\")\n",
        "\n",
        "    # Agregar un elemento (si no existe)\n",
        "    def agregar(self, elemento):\n",
        "        self.conjunto.add(elemento)\n",
        "        self._guardar_en_disco(self.conjunto)\n",
        "\n",
        "    # Eliminar un elemento (si existe)\n",
        "    def eliminar(self, elemento):\n",
        "        self.conjunto.discard(elemento)\n",
        "        self._guardar_en_disco(self.conjunto)\n",
        "\n",
        "    # Verificar si contiene un elemento\n",
        "    def contiene(self, elemento):\n",
        "        return elemento in self.conjunto\n",
        "\n",
        "    # Representación del conjunto\n",
        "    def __str__(self):\n",
        "        return f\"Conjunto: {self.conjunto}\"\n",
        "# Crear o cargar el conjunto desde archivo\n",
        "conjunto = ConjuntoEnDisco(\"conjunto.pickle\")\n",
        "\n",
        "# Agregar elementos\n",
        "conjunto.agregar(\"Manzana\")\n",
        "conjunto.agregar(\"Pera\")\n",
        "conjunto.agregar(\"Manzana\") # No se duplica\n",
        "\n",
        "# Mostrar conjunto actual\n",
        "print(conjunto)  # Conjunto: {'manzana', 'pera'}\n",
        "\n",
        "# Verificar si un elemento está presente\n",
        "print(\"¿Contiene 'Pera'?\", conjunto.contiene(\"Pera\"))\n",
        "print(\"¿contine 'Mandarina'?\", conjunto.contiene(\"Mandarina\"))\n",
        "\n",
        "# Eliminar un elemento\n",
        "conjunto.eliminar(\"Pera\")\n",
        "\n",
        "# Establecer un nuevo conjunto\n",
        "conjunto.establecer_conjunto({\"Uva\",\"Naranja\"})\n",
        "\n",
        "# Obtener el conjunto\n",
        "print(\"Conjunto actualizado:\", conjunto.obtener_conjunto())\n",
        "\n",
        "# Guardar cambios en el archivo\n",
        "conjunto._guardar_en_disco(conjunto.obtener_conjunto())\n"
      ]
    }
  ]
}