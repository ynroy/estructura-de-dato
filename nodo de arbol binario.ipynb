{
  "nbformat": 4,
  "nbformat_minor": 0,
  "metadata": {
    "colab": {
      "provenance": [],
      "include_colab_link": true
    },
    "kernelspec": {
      "name": "python3",
      "display_name": "Python 3"
    },
    "language_info": {
      "name": "python"
    }
  },
  "cells": [
    {
      "cell_type": "markdown",
      "metadata": {
        "id": "view-in-github",
        "colab_type": "text"
      },
      "source": [
        "<a href=\"https://colab.research.google.com/github/ynroy/estructura-de-dato/blob/main/nodo%20de%20arbol%20binario.ipynb\" target=\"_parent\"><img src=\"https://colab.research.google.com/assets/colab-badge.svg\" alt=\"Open In Colab\"/></a>"
      ]
    },
    {
      "cell_type": "code",
      "source": [
        "class Nodo:\n",
        "    def __init__(self, valor):\n",
        "        self._valor = valor  # Atributo privado\n",
        "        self._izquierdo = None\n",
        "        self._derecho = None\n",
        "\n",
        "    # Getter y Setter para el valor\n",
        "    @property\n",
        "    def valor(self):\n",
        "        return self._valor\n",
        "\n",
        "    @valor.setter\n",
        "    def valor(self, valor):\n",
        "        self._valor = valor\n",
        "\n",
        "    # Getter y Setter para el hijo izquierdo\n",
        "    @property\n",
        "    def izquierdo(self):\n",
        "        return self._izquierdo\n",
        "\n",
        "    @izquierdo.setter\n",
        "    def izquierdo(self, nodo):\n",
        "        self._izquierdo = nodo\n",
        "\n",
        "    # Getter y Setter para el hijo derecho\n",
        "    @property\n",
        "    def derecho(self):\n",
        "        return self._derecho\n",
        "\n",
        "    @derecho.setter\n",
        "    def derecho(self, nodo):\n",
        "        self._derecho = nodo\n",
        "\n",
        "\n",
        "class ArbolBinario:\n",
        "    def __init__(self):\n",
        "        self.raiz = None\n",
        "\n",
        "    def insertar(self, valor):\n",
        "        if not self.raiz:\n",
        "            self.raiz = Nodo(valor)\n",
        "        else:\n",
        "            self._insertar_recursivo(self.raiz, valor)\n",
        "\n",
        "    def _insertar_recursivo(self, nodo, valor):\n",
        "        if valor < nodo.valor:\n",
        "            if nodo.izquierdo is None:\n",
        "                nodo.izquierdo = Nodo(valor)\n",
        "            else:\n",
        "                self._insertar_recursivo(nodo.izquierdo, valor)\n",
        "        else:\n",
        "            if nodo.derecho is None:\n",
        "                nodo.derecho = Nodo(valor)\n",
        "            else:\n",
        "                self._insertar_recursivo(nodo.derecho, valor)\n",
        "\n",
        "    def buscar(self, valor):\n",
        "        return self._buscar_recursivo(self.raiz, valor)\n",
        "\n",
        "    def _buscar_recursivo(self, nodo, valor):\n",
        "        if nodo is None:\n",
        "            return False\n",
        "        if nodo.valor == valor:\n",
        "            return True\n",
        "        elif valor < nodo.valor:\n",
        "            return self._buscar_recursivo(nodo.izquierdo, valor)\n",
        "        else:\n",
        "            return self._buscar_recursivo(nodo.derecho, valor)\n",
        "\n",
        "    def es_hoja(self, nodo):\n",
        "        return nodo.izquierdo is None and nodo.derecho is None\n",
        "\n",
        "    def altura(self):\n",
        "        return self._altura_recursiva(self.raiz)\n",
        "\n",
        "    def _altura_recursiva(self, nodo):\n",
        "        if nodo is None:\n",
        "            return -1\n",
        "        altura_izq = self._altura_recursiva(nodo.izquierdo)\n",
        "        altura_der = self._altura_recursiva(nodo.derecho)\n",
        "        return 1 + max(altura_izq, altura_der)\n",
        "\n",
        "    def cantidad(self):\n",
        "        return self._cantidad_recursiva(self.raiz)\n",
        "\n",
        "    def _cantidad_recursiva(self, nodo):\n",
        "        if nodo is None:\n",
        "            return 0\n",
        "        return 1 + self._cantidad_recursiva(nodo.izquierdo) + self._cantidad_recursiva(nodo.derecho)\n",
        "\n",
        "    def amplitud(self):\n",
        "        if not self.raiz:\n",
        "            return 0\n",
        "        nivel = [self.raiz]\n",
        "        max_amplitud = 0\n",
        "        while nivel:\n",
        "            max_amplitud = max(max_amplitud, len(nivel))\n",
        "            siguiente_nivel = []\n",
        "            for nodo in nivel:\n",
        "                if nodo.izquierdo:\n",
        "                    siguiente_nivel.append(nodo.izquierdo)\n",
        "                if nodo.derecho:\n",
        "                    siguiente_nivel.append(nodo.derecho)\n",
        "            nivel = siguiente_nivel\n",
        "        return max_amplitud\n",
        "\n",
        "\n",
        "# Ejemplo\n",
        "if __name__ == \"__main__\":\n",
        "    arbol = ArbolBinario()\n",
        "    arbol.insertar(10)\n",
        "    arbol.insertar(5)\n",
        "    arbol.insertar(15)\n",
        "    arbol.insertar(3)\n",
        "    arbol.insertar(7)\n",
        "\n",
        "    # Buscar\n",
        "    print(\"Buscar 15:\", arbol.buscar(15))  # True\n",
        "    print(\"Buscar 20:\", arbol.buscar(20))  # False\n",
        "\n",
        "    # EsHoja\n",
        "    print(\"Es hoja el nodo con valor 3:\", arbol.es_hoja(arbol.raiz.izquierdo.izquierdo))  # True\n",
        "\n",
        "    # Acceder a través de getter y setter\n",
        "    print(\"Valor de la raíz:\", arbol.raiz.valor)  # 10\n",
        "    arbol.raiz.valor = 25\n",
        "    print(\"Nuevo valor de la raíz:\", arbol.raiz.valor)  # 25\n",
        "\n",
        "    # Altura\n",
        "    print(\"Altura del árbol:\", arbol.altura())  # 2\n",
        "\n",
        "    # Cantidad\n",
        "    print(\"Cantidad de nodos:\", arbol.cantidad())  # 5\n",
        "\n",
        "    # Amplitud\n",
        "    print(\"Amplitud del árbol:\", arbol.amplitud())  # 3\n"
      ],
      "metadata": {
        "id": "2N7thAWdc6Na",
        "outputId": "54c37dfa-2605-4bd6-e859-088de496e4c4",
        "colab": {
          "base_uri": "https://localhost:8080/"
        }
      },
      "execution_count": 4,
      "outputs": [
        {
          "output_type": "stream",
          "name": "stdout",
          "text": [
            "Buscar 15: True\n",
            "Buscar 20: False\n",
            "Es hoja el nodo con valor 3: True\n",
            "Valor de la raíz: 10\n",
            "Nuevo valor de la raíz: 25\n",
            "Altura del árbol: 2\n",
            "Cantidad de nodos: 5\n",
            "Amplitud del árbol: 2\n"
          ]
        }
      ]
    },
    {
      "cell_type": "code",
      "source": [],
      "metadata": {
        "id": "ULvMKK8Pd6SA"
      },
      "execution_count": null,
      "outputs": []
    },
    {
      "cell_type": "markdown",
      "source": [
        "**Methods**\n",
        "\n",
        "Here are some examples tailored for students to understand and implement various representation methods:\n",
        "\n",
        "**Static Representation**\n",
        "\n",
        "Scenario: Representing a library catalog.\n",
        "\n",
        "Task: Create a program using a static data structure (like a list or dictionary) to store information about books in a library catalog. The program should allow users to:\n",
        "\n",
        "Add new books: Include title, author, ISBN, and genre.\n",
        "Search for books: By title, author, or ISBN.\n",
        "Display all books: In a formatted way.\n",
        "Example:"
      ],
      "metadata": {
        "id": "3L7mv3BPzI5Z"
      }
    },
    {
      "cell_type": "code",
      "execution_count": 1,
      "metadata": {
        "colab": {
          "base_uri": "https://localhost:8080/"
        },
        "id": "moD2J6lczBGF",
        "outputId": "82dfad00-737e-41be-b284-ef37f322a276"
      },
      "outputs": [
        {
          "output_type": "stream",
          "name": "stdout",
          "text": [
            "[{'title': 'The Lord of the Rings', 'author': 'J.R.R. Tolkien', 'genre': 'Fantasy'}]\n",
            "ISBN: 9780547928227, Title: The Lord of the Rings, Author: J.R.R. Tolkien, Genre: Fantasy\n",
            "ISBN: 9780345391803, Title: The Hitchhiker's Guide to the Galaxy, Author: Douglas Adams, Genre: Science Fiction\n"
          ]
        }
      ],
      "source": [
        "# @title Texto de título predeterminado\n",
        "catalog = {}  # Using a dictionary to store book information\n",
        "\n",
        "def add_book(title, author, isbn, genre):\n",
        "  catalog[isbn] = {'title': title, 'author': author, 'genre': genre}\n",
        "\n",
        "def search_book(query):\n",
        "  results = []\n",
        "  for isbn, book_data in catalog.items():\n",
        "    if query in book_data['title'] or query in book_data['author'] or query == isbn:\n",
        "      results.append(book_data)\n",
        "  return results\n",
        "\n",
        "def display_catalog():\n",
        "  for isbn, book_data in catalog.items():\n",
        "    print(f\"ISBN: {isbn}, Title: {book_data['title']}, Author: {book_data['author']}, Genre: {book_data['genre']}\")\n",
        "\n",
        "# Example usage\n",
        "add_book(\"The Lord of the Rings\", \"J.R.R. Tolkien\", \"9780547928227\", \"Fantasy\")\n",
        "add_book(\"The Hitchhiker's Guide to the Galaxy\", \"Douglas Adams\", \"9780345391803\", \"Science Fiction\")\n",
        "\n",
        "search_results = search_book(\"Tolkien\")\n",
        "print(search_results)\n",
        "\n",
        "display_catalog()"
      ]
    },
    {
      "cell_type": "markdown",
      "source": [
        "**Dynamic**\n",
        "\n",
        "Representation\n",
        "Scenario: Simulating a bank account.\n",
        "\n",
        "Task: Create a program that uses a dynamic data structure (like a list) to represent a bank account's transaction history. The program should allow users to:\n",
        "\n",
        "Deposit money: Add a transaction record with the amount and type \"deposit\".\n",
        "Withdraw money: Add a transaction record with the amount and type \"withdrawal\".\n",
        "View transaction history: Display all transactions in chronological order.\n",
        "Check balance: Calculate the current balance based on all transactions.\n",
        "Example:"
      ],
      "metadata": {
        "id": "aDG41fJs1lb1"
      }
    },
    {
      "cell_type": "code",
      "source": [
        "transactions = []\n",
        "\n",
        "def deposit(amount):\n",
        "  transactions.append({'type': 'deposit', 'amount': amount})\n",
        "\n",
        "def withdraw(amount):\n",
        "  transactions.append({'type': 'withdrawal', 'amount': amount})\n",
        "\n",
        "def view_history():\n",
        "  for transaction in transactions:\n",
        "    print(f\"{transaction['type'].capitalize()}: {transaction['amount']}\")\n",
        "\n",
        "def check_balance():\n",
        "  balance = 0\n",
        "  for transaction in transactions:\n",
        "    if transaction['type'] == 'deposit':\n",
        "      balance += transaction['amount']\n",
        "    else:\n",
        "      balance -= transaction['amount']\n",
        "  return balance\n",
        "\n",
        "# Example usage\n",
        "deposit(1000)\n",
        "withdraw(200)\n",
        "deposit(500)\n",
        "\n",
        "view_history()\n",
        "print(f\"Current balance: {check_balance()}\")"
      ],
      "metadata": {
        "id": "hiTy3Q9K1xLd"
      },
      "execution_count": null,
      "outputs": []
    },
    {
      "cell_type": "code",
      "source": [],
      "metadata": {
        "id": "wizEpx5DSNks"
      },
      "execution_count": null,
      "outputs": []
    },
    {
      "cell_type": "markdown",
      "source": [],
      "metadata": {
        "id": "f0-OAfEESN9S"
      }
    },
    {
      "cell_type": "code",
      "source": [],
      "metadata": {
        "id": "9pvS40fxSOUq"
      },
      "execution_count": null,
      "outputs": []
    },
    {
      "cell_type": "markdown",
      "source": [
        "**Persistent**\n",
        "\n",
        "Representation\n",
        "Scenario: Creating a simple to-do list application.\n",
        "\n",
        "Task: Develop a program that stores a to-do list persistently using a file (e.g., a text file or JSON file). The program should allow users to:\n",
        "\n",
        "Add tasks: Append new tasks to the list.\n",
        "Mark tasks as complete: Update the status of tasks.\n",
        "View the to-do list: Display all tasks with their status.\n",
        "Save and load the list: To and from the file.\n",
        "Example (using a text file):"
      ],
      "metadata": {
        "id": "vHxeFYF314vP"
      }
    },
    {
      "cell_type": "code",
      "source": [
        "def load_todo_list(filename=\"todo.txt\"):\n",
        "  tasks = []\n",
        "  try:\n",
        "    with open(filename, \"r\") as file:\n",
        "      for line in file:\n",
        "        tasks.append(line.strip())\n",
        "  except FileNotFoundError:\n",
        "    pass  # Ignore if file doesn't exist\n",
        "  return tasks\n",
        "\n",
        "def save_todo_list(tasks, filename=\"todo.txt\"):\n",
        "  with open(filename, \"w\") as file:\n",
        "    for task in tasks:\n",
        "      file.write(task + \"\\n\")\n",
        "\n",
        "def add_task(tasks, task):\n",
        "  tasks.append(task)\n",
        "\n",
        "def mark_complete(tasks, task_index):\n",
        "  if 0 <= task_index < len(tasks):\n",
        "    tasks[task_index] = tasks[task_index] + \" [Complete]\"\n",
        "\n",
        "def view_todo_list(tasks):\n",
        "  for index, task in enumerate(tasks):\n",
        "    print(f\"{index + 1}. {task}\")\n",
        "\n",
        "# Example usage\n",
        "todo_list = load_todo_list()\n",
        "\n",
        "add_task(todo_list, \"Buy groceries\")\n",
        "add_task(todo_list, \"Finish homework\")\n",
        "\n",
        "view_todo_list(todo_list)\n",
        "\n",
        "mark_complete(todo_list, 0)\n",
        "\n",
        "view_todo_list(todo_list)\n",
        "\n",
        "save_todo_list(todo_list)"
      ],
      "metadata": {
        "id": "CPnGfI7b18v4"
      },
      "execution_count": null,
      "outputs": []
    },
    {
      "cell_type": "markdown",
      "source": [
        "**Simulated**\n",
        "\n",
        "Representation\n",
        "Scenario: Modeling a traffic intersection.\n",
        "\n",
        "Task: Create a program that simulates a traffic intersection with traffic lights and cars. Use objects to represent cars and traffic lights. The program should:\n",
        "\n",
        "Create cars: With random arrival times and directions.\n",
        "Control traffic lights: Change lights at regular intervals.\n",
        "Move cars: Based on traffic light signals and car positions.\n",
        "Display the intersection: Visually represent the cars and traffic lights (e.g., using text-based output).\n",
        "Example (simplified):"
      ],
      "metadata": {
        "id": "hmJDFxO12BN0"
      }
    },
    {
      "cell_type": "code",
      "source": [
        "import random\n",
        "import time\n",
        "\n",
        "class Car:\n",
        "  def __init__(self, direction):\n",
        "    self.direction = direction\n",
        "    self.position = 0\n",
        "\n",
        "class TrafficLight:\n",
        "  def __init__(self):\n",
        "    self.color = \"red\"\n",
        "\n",
        "  def change_color(self):\n",
        "    if self.color == \"red\":\n",
        "      self.color = \"green\"\n",
        "    else:\n",
        "      self.color = \"red\"\n",
        "\n",
        "# ... (rest of the simulation logic) ..."
      ],
      "metadata": {
        "id": "CCUKh_c92IML"
      },
      "execution_count": null,
      "outputs": []
    }
  ]
}