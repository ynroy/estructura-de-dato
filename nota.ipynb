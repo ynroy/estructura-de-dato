{
  "nbformat": 4,
  "nbformat_minor": 0,
  "metadata": {
    "colab": {
      "provenance": [],
      "authorship_tag": "ABX9TyNzZFBWa/HguIBSGxBYy6PH",
      "include_colab_link": true
    },
    "kernelspec": {
      "name": "python3",
      "display_name": "Python 3"
    },
    "language_info": {
      "name": "python"
    }
  },
  "cells": [
    {
      "cell_type": "markdown",
      "metadata": {
        "id": "view-in-github",
        "colab_type": "text"
      },
      "source": [
        "<a href=\"https://colab.research.google.com/github/ynroy/estructura-de-dato/blob/main/nota.ipynb\" target=\"_parent\"><img src=\"https://colab.research.google.com/assets/colab-badge.svg\" alt=\"Open In Colab\"/></a>"
      ]
    },
    {
      "cell_type": "code",
      "execution_count": 16,
      "metadata": {
        "colab": {
          "base_uri": "https://localhost:8080/"
        },
        "id": "MlrPH6zAIlW5",
        "outputId": "1e2caa26-f706-4649-fffb-dd775c0eb8a0"
      },
      "outputs": [
        {
          "output_type": "stream",
          "name": "stdout",
          "text": [
            "\n",
            "Lista de estudiantes:\n",
            "Nombre: Jose. Nota:80\n",
            "Nombre: Josefina. Nota:70\n",
            "Nombre: Anabel. Nota:75\n",
            "Nombre: Erica. Nota:83\n",
            "Nombre: Felipe. Nota:90\n",
            "Nombre: Yorny. Nota:100\n",
            "\n",
            "Promedio de notas:  83.00\n"
          ]
        }
      ],
      "source": [
        "class Estudiante :\n",
        "    def __init__(self, nombre, nota):\n",
        "      self.nombre = nombre\n",
        "      self.nota = nota\n",
        "\n",
        "    def mostrar(self):\n",
        "        print(f\"Nombre: {self.nombre}. Nota:{self.nota}\")\n",
        "\n",
        "class GestionEstudiantes:\n",
        "    def __init__(self):\n",
        "        self.estudiantes = []\n",
        "\n",
        "    def agregar_estudiante(self, nombre, nota):\n",
        "        nuevo_estudiante = Estudiante(nombre, nota)\n",
        "        self.estudiantes.append(nuevo_estudiante)\n",
        "\n",
        "    def mostrar_estudiantes(self):\n",
        "        print(\"\\nLista de estudiantes:\")\n",
        "        for estudiante in self.estudiantes:\n",
        "            estudiante.mostrar()\n",
        "\n",
        "    def calcular_promedio(self):\n",
        "      if not self.estudiantes:\n",
        "          return 0\n",
        "      total = sum(e.nota for e in self.estudiantes)\n",
        "      return total / len(self.estudiantes)\n",
        "\n",
        "def main():\n",
        "    gestion = GestionEstudiantes()\n",
        "\n",
        "    gestion.agregar_estudiante(\"Jose\", 80)\n",
        "    gestion.agregar_estudiante(\"Josefina\", 70)\n",
        "    gestion.agregar_estudiante(\"Anabel\", 75)\n",
        "    gestion.agregar_estudiante(\"Erica\", 83)\n",
        "    gestion.agregar_estudiante(\"Felipe\", 90)\n",
        "    gestion.agregar_estudiante(\"Yorny\", 100)\n",
        "\n",
        "    gestion.mostrar_estudiantes()\n",
        "    promedio = gestion.calcular_promedio()\n",
        "    print(f\"\\nPromedio de notas: {promedio: .2f}\")\n",
        "\n",
        "if __name__ == \"__main__\":\n",
        "    main()"
      ]
    }
  ]
}